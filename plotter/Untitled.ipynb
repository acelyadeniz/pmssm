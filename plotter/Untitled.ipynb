{
 "cells": [
  {
   "cell_type": "code",
   "execution_count": 1,
   "id": "f16be50b-b6c3-4efd-ae25-6a2dce1fc978",
   "metadata": {},
   "outputs": [
    {
     "name": "stdout",
     "output_type": "stream",
     "text": [
      "Welcome to JupyROOT 6.30/04\n"
     ]
    }
   ],
   "source": [
    "from ROOT import  *"
   ]
  },
  {
   "cell_type": "code",
   "execution_count": 2,
   "id": "bd59e9f4-75b1-4d07-94a2-6f3650e7a82b",
   "metadata": {},
   "outputs": [],
   "source": [
    "from PlotterConfig import PlotterConfig\n",
    "from Plotter import PMSSM"
   ]
  },
  {
   "cell_type": "code",
   "execution_count": 3,
   "id": "b4750bba-9c37-4445-982f-6cda87bd7e61",
   "metadata": {},
   "outputs": [],
   "source": [
    "c = PlotterConfig()\n",
    "c.global_settings[\"outputFileFormat\"] = \"pdf\""
   ]
  },
  {
   "cell_type": "code",
   "execution_count": 4,
   "id": "ad7eb810-cf06-4c93-b1d4-c9080e5f021b",
   "metadata": {},
   "outputs": [],
   "source": [
    "root_dict = [\n",
    "    {\"treeName\": \"mcmc\", \"filePath\" : \"/Users/dorukhan/Desktop/cern/pmssm/pmssmtree_11aug2023.root \"},\n",
    "    {\"treeName\": \"cms_sus_20_001\",  \"filePath\" :\"/Users/dorukhan/Desktop/cern/pmssm/sus_20_001_likelihood.root\"}\n",
    "]"
   ]
  },
  {
   "cell_type": "code",
   "execution_count": 5,
   "id": "ad6da9b1",
   "metadata": {},
   "outputs": [],
   "source": [
    "pmssm = PMSSM(root_dict,config=c)"
   ]
  },
  {
   "cell_type": "code",
   "execution_count": 6,
   "id": "1169e851",
   "metadata": {},
   "outputs": [
    {
     "name": "stdout",
     "output_type": "stream",
     "text": [
      "0. cms_sus_20_001\n",
      "1. cms_sus_19_006\n",
      "2. cms_sus_21_006\n",
      "3. cms_sus_18_004\n"
     ]
    }
   ],
   "source": [
    "pmssm.constraints.printAnalysisList()"
   ]
  },
  {
   "cell_type": "code",
   "execution_count": 7,
   "id": "e37767af",
   "metadata": {},
   "outputs": [
    {
     "name": "stdout",
     "output_type": "stream",
     "text": [
      "_____________________________\u001b[1m\u001b[92mFULL COMBINED\u001b[0m_______________________\n",
      "•\u001b[93mAnalysis:\u001b[0m cms_sus_20_001 \u001b[38;5;214mConstraint\u001b[0m: (exp(llhd_cms_sus_20_001_mu1p0s-llhd_cms_sus_20_001_mu0p0s))\n",
      "•\u001b[93mAnalysis:\u001b[0m cms_sus_19_006 \u001b[38;5;214mConstraint\u001b[0m: (exp(llhd_cms_sus_19_006_100s-llhd_cms_sus_19_006_0s))\n",
      "•\u001b[93mAnalysis:\u001b[0m cms_sus_21_006 \u001b[38;5;214mConstraint\u001b[0m: (max(bf_cms_sus_21_006_mu1p0f,1E-20))\n",
      "•\u001b[93mAnalysis:\u001b[0m cms_sus_18_004 \u001b[38;5;214mConstraint\u001b[0m: (max(bf_cms_sus_18_004_mu1p0f,1E-20))\n",
      "constraintstring prior (1/PickProbability)*(1)\n",
      "constraintstring posterior (1/PickProbability)*(1)*(exp(llhd_cms_sus_20_001_mu1p0s-llhd_cms_sus_20_001_mu0p0s))*(exp(llhd_cms_sus_19_006_100s-llhd_cms_sus_19_006_0s))*(max(bf_cms_sus_21_006_mu1p0f,1E-20))*(max(bf_cms_sus_18_004_mu1p0f,1E-20))\n"
     ]
    },
    {
     "name": "stderr",
     "output_type": "stream",
     "text": [
      "Info in <TCanvas::MakeDefCanvas>:  created default TCanvas with name c1\n",
      "Warning in <TH1F::Sumw2>: Sum of squares of weights structure already created\n",
      "Warning in <TH1F::Sumw2>: Sum of squares of weights structure already created\n",
      "Warning in <TH1F::Sumw2>: Sum of squares of weights structure already created\n",
      "Warning in <TH1F::Sumw2>: Sum of squares of weights structure already created\n",
      "Info in <TCanvas::Print>: pdf file output/gluino_COMBINED_impact1D.pdf has been created\n"
     ]
    },
    {
     "data": {
      "image/png": "[encoded data removed]",
      "text/plain": [
       "<IPython.core.display.Image object>"
      ]
     },
     "metadata": {},
     "output_type": "display_data"
    }
   ],
   "source": [
    "pmssm.impact1D(\"g\")"
   ]
  },
  {
   "cell_type": "code",
   "execution_count": 8,
   "id": "baa5ecd8",
   "metadata": {},
   "outputs": [
    {
     "name": "stdout",
     "output_type": "stream",
     "text": [
      "_____________________________\u001b[1m\u001b[92mFULL COMBINED\u001b[0m_______________________\n",
      "•\u001b[93mAnalysis:\u001b[0m cms_sus_20_001 \u001b[38;5;214mConstraint\u001b[0m: (exp(llhd_cms_sus_20_001_mu1p0s-llhd_cms_sus_20_001_mu0p0s))\n",
      "•\u001b[93mAnalysis:\u001b[0m cms_sus_19_006 \u001b[38;5;214mConstraint\u001b[0m: (exp(llhd_cms_sus_19_006_100s-llhd_cms_sus_19_006_0s))\n",
      "•\u001b[93mAnalysis:\u001b[0m cms_sus_21_006 \u001b[38;5;214mConstraint\u001b[0m: (max(bf_cms_sus_21_006_mu1p0f,1E-20))\n",
      "•\u001b[93mAnalysis:\u001b[0m cms_sus_18_004 \u001b[38;5;214mConstraint\u001b[0m: (max(bf_cms_sus_18_004_mu1p0f,1E-20))\n",
      "constraintstring prior (1/PickProbability)*(1)\n",
      "constraintstring posterior (1/PickProbability)*(1)*(exp(llhd_cms_sus_20_001_mu1p0s-llhd_cms_sus_20_001_mu0p0s))*(exp(llhd_cms_sus_19_006_100s-llhd_cms_sus_19_006_0s))*(max(bf_cms_sus_21_006_mu1p0f,1E-20))*(max(bf_cms_sus_18_004_mu1p0f,1E-20))\n"
     ]
    },
    {
     "name": "stderr",
     "output_type": "stream",
     "text": [
      "Warning in <TH1F::Sumw2>: Sum of squares of weights structure already created\n",
      "Warning in <TH1F::Sumw2>: Sum of squares of weights structure already created\n",
      "Warning in <TH1F::Sumw2>: Sum of squares of weights structure already created\n",
      "Warning in <TH1F::Sumw2>: Sum of squares of weights structure already created\n",
      "Info in <TCanvas::Print>: pdf file output/stop1_COMBINED_impact1D.pdf has been created\n"
     ]
    }
   ],
   "source": [
    "pmssm.impact1D(\"t1\",legendStyle=\"leftTop\")"
   ]
  },
  {
   "cell_type": "code",
   "execution_count": 9,
   "id": "d3ca6802",
   "metadata": {},
   "outputs": [
    {
     "name": "stdout",
     "output_type": "stream",
     "text": [
      "_____________________________\u001b[1m\u001b[92mSIMPLIFIED COMBINED\u001b[0m_______________________\n",
      "•\u001b[93mAnalysis:\u001b[0m cms_sus_20_001 \u001b[38;5;214mConstraint\u001b[0m: (exp(llhd_cms_sus_20_001_mu1p0s-llhd_cms_sus_20_001_mu0p0s))\n",
      "•\u001b[93mAnalysis:\u001b[0m cms_sus_19_006 \u001b[38;5;214mConstraint\u001b[0m: (exp(llhd_cms_sus_19_006_100s-llhd_cms_sus_19_006_0s))\n",
      "•\u001b[93mAnalysis:\u001b[0m cms_sus_21_006 \u001b[38;5;214mConstraint\u001b[0m: (exp(llhd_cms_sus_21_006_100s-llhd_cms_sus_21_006_0s))\n",
      "•\u001b[93mAnalysis:\u001b[0m cms_sus_18_004 \u001b[38;5;214mConstraint\u001b[0m: (exp(llhd_cms_sus_18_004_100s-llhd_cms_sus_18_004_0s))\n",
      "constraintstring prior (1/PickProbability)*(1)\n",
      "constraintstring posterior (1/PickProbability)*(1)*(exp(llhd_cms_sus_20_001_mu1p0s-llhd_cms_sus_20_001_mu0p0s))*(exp(llhd_cms_sus_19_006_100s-llhd_cms_sus_19_006_0s))*(exp(llhd_cms_sus_21_006_100s-llhd_cms_sus_21_006_0s))*(exp(llhd_cms_sus_18_004_100s-llhd_cms_sus_18_004_0s))\n"
     ]
    },
    {
     "name": "stderr",
     "output_type": "stream",
     "text": [
      "Warning in <TH1F::Sumw2>: Sum of squares of weights structure already created\n",
      "Warning in <TH1F::Sumw2>: Sum of squares of weights structure already created\n",
      "Warning in <TH1F::Sumw2>: Sum of squares of weights structure already created\n",
      "Warning in <TH1F::Sumw2>: Sum of squares of weights structure already created\n",
      "Info in <TCanvas::Print>: pdf file output/stop1_COMBINED_SIMPLIFIED_impact1D.pdf has been created\n"
     ]
    }
   ],
   "source": [
    "pmssm.impact1D(\"t1\",analysis=\"combined simplified\",legendStyle=\"leftTop\")"
   ]
  },
  {
   "cell_type": "code",
   "execution_count": 10,
   "id": "b256baa5",
   "metadata": {},
   "outputs": [
    {
     "name": "stdout",
     "output_type": "stream",
     "text": [
      "_____________________________\u001b[1m\u001b[92mFULL cms_sus_20_001\u001b[0m_______________________\n",
      "\u001b[38;5;214mConstraint\u001b[0m: (exp(llhd_cms_sus_20_001_mu1p0s-llhd_cms_sus_20_001_mu0p0s))\n",
      "constraintstring prior (1/PickProbability)*(1)\n",
      "constraintstring posterior (1/PickProbability)*(1)*(exp(llhd_cms_sus_20_001_mu1p0s-llhd_cms_sus_20_001_mu0p0s))\n",
      "_____________________________\u001b[1m\u001b[92mFULL cms_sus_19_006\u001b[0m_______________________\n",
      "\u001b[38;5;214mConstraint\u001b[0m: (exp(llhd_cms_sus_19_006_100s-llhd_cms_sus_19_006_0s))\n",
      "constraintstring prior (1/PickProbability)*(1)\n",
      "constraintstring posterior (1/PickProbability)*(1)*(exp(llhd_cms_sus_19_006_100s-llhd_cms_sus_19_006_0s))\n",
      "_____________________________\u001b[1m\u001b[92mFULL cms_sus_21_006\u001b[0m_______________________\n",
      "\u001b[38;5;214mConstraint\u001b[0m: (max(bf_cms_sus_21_006_mu1p0f,1E-5))\n",
      "constraintstring prior (1/PickProbability)*(1)\n",
      "constraintstring posterior (1/PickProbability)*(1)*(max(bf_cms_sus_21_006_mu1p0f,1E-5))\n",
      "_____________________________\u001b[1m\u001b[92mFULL cms_sus_18_004\u001b[0m_______________________\n",
      "\u001b[38;5;214mConstraint\u001b[0m: (max(bf_cms_sus_18_004_mu1p0f,1E-5))\n",
      "constraintstring prior (1/PickProbability)*(1)\n",
      "constraintstring posterior (1/PickProbability)*(1)*(max(bf_cms_sus_18_004_mu1p0f,1E-5))\n"
     ]
    },
    {
     "name": "stderr",
     "output_type": "stream",
     "text": [
      "Warning in <TH1F::Sumw2>: Sum of squares of weights structure already created\n",
      "Warning in <TH1F::Sumw2>: Sum of squares of weights structure already created\n",
      "Warning in <TH1F::Sumw2>: Sum of squares of weights structure already created\n",
      "Warning in <TH1F::Sumw2>: Sum of squares of weights structure already created\n",
      "Info in <TCanvas::Print>: pdf file output/stop1_CMS_SUS_20_001_impact1D.pdf has been created\n",
      "Warning in <TH1F::Sumw2>: Sum of squares of weights structure already created\n",
      "Warning in <TH1F::Sumw2>: Sum of squares of weights structure already created\n",
      "Warning in <TH1F::Sumw2>: Sum of squares of weights structure already created\n",
      "Warning in <TH1F::Sumw2>: Sum of squares of weights structure already created\n",
      "Info in <TCanvas::Print>: pdf file output/stop1_CMS_SUS_19_006_impact1D.pdf has been created\n",
      "Warning in <TH1F::Sumw2>: Sum of squares of weights structure already created\n",
      "Warning in <TH1F::Sumw2>: Sum of squares of weights structure already created\n",
      "Warning in <TH1F::Sumw2>: Sum of squares of weights structure already created\n",
      "Warning in <TH1F::Sumw2>: Sum of squares of weights structure already created\n",
      "Info in <TCanvas::Print>: pdf file output/stop1_CMS_SUS_21_006_impact1D.pdf has been created\n",
      "Warning in <TH1F::Sumw2>: Sum of squares of weights structure already created\n",
      "Warning in <TH1F::Sumw2>: Sum of squares of weights structure already created\n",
      "Warning in <TH1F::Sumw2>: Sum of squares of weights structure already created\n",
      "Warning in <TH1F::Sumw2>: Sum of squares of weights structure already created\n",
      "Info in <TCanvas::Print>: pdf file output/stop1_CMS_SUS_18_004_impact1D.pdf has been created\n"
     ]
    }
   ],
   "source": [
    "for analysis in pmssm.constraints.getAnalysisList():\n",
    "    pmssm.impact1D(\"t1\",analysis=analysis,legendStyle=\"leftTop\")"
   ]
  }
 ],
 "metadata": {
  "kernelspec": {
   "display_name": "Python 3 (ipykernel)",
   "language": "python",
   "name": "python3"
  },
  "language_info": {
   "codemirror_mode": {
    "name": "ipython",
    "version": 3
   },
   "file_extension": ".py",
   "mimetype": "text/x-python",
   "name": "python",
   "nbconvert_exporter": "python",
   "pygments_lexer": "ipython3",
   "version": "3.10.14"
  }
 },
 "nbformat": 4,
 "nbformat_minor": 5
}
