{
 "cells": [
  {
   "cell_type": "code",
   "execution_count": 1,
   "id": "f16be50b-b6c3-4efd-ae25-6a2dce1fc978",
   "metadata": {},
   "outputs": [
    {
     "name": "stdout",
     "output_type": "stream",
     "text": [
      "Welcome to JupyROOT 6.30/04\n"
     ]
    }
   ],
   "source": [
    "from ROOT import  *"
   ]
  },
  {
   "cell_type": "code",
   "execution_count": 2,
   "id": "bd59e9f4-75b1-4d07-94a2-6f3650e7a82b",
   "metadata": {},
   "outputs": [],
   "source": [
    "from PlotterConfig import PlotterConfig\n",
    "import PlotterUtils"
   ]
  },
  {
   "cell_type": "code",
   "execution_count": 3,
   "id": "b4750bba-9c37-4445-982f-6cda87bd7e61",
   "metadata": {},
   "outputs": [],
   "source": [
    "c = PlotterConfig()"
   ]
  },
  {
   "cell_type": "code",
   "execution_count": 4,
   "id": "ad7eb810-cf06-4c93-b1d4-c9080e5f021b",
   "metadata": {},
   "outputs": [],
   "source": [
    "root_dict = [\n",
    "    {\"treeName\": \"mcmc\", \"filePath\" : \"/Users/dorukhan/Desktop/cern/pmssm/pmssmtree_11aug2023.root \"},\n",
    "    {\"treeName\": \"cms_sus_20_001\",  \"filePath\" :\"/Users/dorukhan/Desktop/cern/pmssm/sus_20_001_likelihood.root\"}\n",
    "]"
   ]
  },
  {
   "cell_type": "code",
   "execution_count": 18,
   "id": "37e26d51-5472-4b7b-acf0-56602c49fdb0",
   "metadata": {},
   "outputs": [],
   "source": [
    "tree,file = PlotterUtils.create_tree(root_dict)"
   ]
  }
 ],
 "metadata": {
  "kernelspec": {
   "display_name": "Python 3 (ipykernel)",
   "language": "python",
   "name": "python3"
  },
  "language_info": {
   "codemirror_mode": {
    "name": "ipython",
    "version": 3
   },
   "file_extension": ".py",
   "mimetype": "text/x-python",
   "name": "python",
   "nbconvert_exporter": "python",
   "pygments_lexer": "ipython3",
   "version": "3.10.14"
  }
 },
 "nbformat": 4,
 "nbformat_minor": 5
}
