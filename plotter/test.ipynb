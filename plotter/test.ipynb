{
 "cells": [
  {
   "cell_type": "code",
   "execution_count": 1,
   "metadata": {},
   "outputs": [],
   "source": [
    "from Constraints import Constraints"
   ]
  },
  {
   "cell_type": "code",
   "execution_count": 2,
   "metadata": {},
   "outputs": [],
   "source": [
    "config = {\n",
    "    'cms_sus_20_001': {\n",
    "        'analysisName': 'SUS-20-001',\n",
    "        'simplified': {\n",
    "            'llhd': {\n",
    "                'signal': 'llhd_cms_sus_20_001_mu1p0s',\n",
    "                'background': 'llhd_cms_sus_20_001_mu0p0s'\n",
    "            },\n",
    "            'bf': 'bf_cms_sus_20_001_mu1p0s'\n",
    "        },\n",
    "        'full': {\n",
    "            'llhd': {\n",
    "                'signal': 'llhd_cms_sus_20_001_mu1p0s',\n",
    "                'background': 'llhd_cms_sus_20_001_mu0p0s'\n",
    "            },\n",
    "            'bf': 'bf_cms_sus_20_001_mu1p0s'\n",
    "        }\n",
    "    },\n",
    "    'cms_sus_19_006': {\n",
    "        'analysisName': 'SUS-19-006',\n",
    "        'simplified': {\n",
    "            'llhd': {\n",
    "                'signal': 'llhd_cms_sus_19_006_100s',\n",
    "                'background': 'llhd_cms_sus_19_006_0s'\n",
    "            },\n",
    "            'bf': None\n",
    "        },\n",
    "        'full': {\n",
    "            'llhd': {\n",
    "                'signal': 'llhd_cms_sus_19_006_100s',\n",
    "                'background': 'llhd_cms_sus_19_006_0s'\n",
    "            },\n",
    "            'bf': None\n",
    "        }\n",
    "    },\n",
    "    'cms_sus_21_006': {\n",
    "        'analysisName': 'SUS-21-006',\n",
    "        'simplified': {\n",
    "            'llhd': {\n",
    "                'signal': 'llhd_cms_sus_21_006_100s',\n",
    "                'background': 'llhd_cms_sus_21_006_0s'\n",
    "            },\n",
    "            'bf': None\n",
    "        },\n",
    "        'full': {\n",
    "            'llhd': {\n",
    "                'signal': None,\n",
    "                'background': None\n",
    "            },\n",
    "            'bf': 'bf_cms_sus_21_006_mu1p0f'\n",
    "        }\n",
    "    },\n",
    "    'cms_sus_18_004': {\n",
    "        'analysisName': 'SUS-21-006',\n",
    "        'simplified': {\n",
    "            'llhd': {\n",
    "                'signal': 'llhd_cms_sus_18_004_100s',\n",
    "                'background': 'llhd_cms_sus_18_004_0s'\n",
    "            },\n",
    "            'bf': None\n",
    "        },\n",
    "        'full': {\n",
    "            'llhd': {\n",
    "                'signal': None,\n",
    "                'background': None\n",
    "            },\n",
    "            'bf': 'bf_cms_sus_18_004_mu1p0f'\n",
    "        }\n",
    "    }\n",
    "}"
   ]
  },
  {
   "cell_type": "code",
   "execution_count": 3,
   "metadata": {},
   "outputs": [],
   "source": [
    "constraints = Constraints(config, order=[\"bf\",\"llhd\"])"
   ]
  },
  {
   "cell_type": "code",
   "execution_count": 4,
   "metadata": {},
   "outputs": [
    {
     "name": "stdout",
     "output_type": "stream",
     "text": [
      "------- \u001b[93m\u001b[1mcms_sus_20_001\u001b[0m -------\n",
      "  \u001b[94m\u001b[1m• analysisName\u001b[0m: SUS-20-001\n",
      "  \u001b[94m\u001b[1m• simplified\u001b[0m:\n",
      "    \u001b[38;5;214m\u001b[1m• llhd\u001b[0m:\n",
      "      \u001b[92m\u001b[1m• signal\u001b[0m: llhd_cms_sus_20_001_mu1p0s\n",
      "      \u001b[92m\u001b[1m• background\u001b[0m: llhd_cms_sus_20_001_mu0p0s\n",
      "    \u001b[38;5;214m\u001b[1m• bf\u001b[0m: bf_cms_sus_20_001_mu1p0s\n",
      "  \u001b[94m\u001b[1m• full\u001b[0m:\n",
      "    \u001b[38;5;214m\u001b[1m• llhd\u001b[0m:\n",
      "      \u001b[92m\u001b[1m• signal\u001b[0m: llhd_cms_sus_20_001_mu1p0s\n",
      "      \u001b[92m\u001b[1m• background\u001b[0m: llhd_cms_sus_20_001_mu0p0s\n",
      "    \u001b[38;5;214m\u001b[1m• bf\u001b[0m: bf_cms_sus_20_001_mu1p0s\n",
      "------- \u001b[93m\u001b[1mcms_sus_19_006\u001b[0m -------\n",
      "  \u001b[94m\u001b[1m• analysisName\u001b[0m: SUS-19-006\n",
      "  \u001b[94m\u001b[1m• simplified\u001b[0m:\n",
      "    \u001b[38;5;214m\u001b[1m• llhd\u001b[0m:\n",
      "      \u001b[92m\u001b[1m• signal\u001b[0m: llhd_cms_sus_19_006_100s\n",
      "      \u001b[92m\u001b[1m• background\u001b[0m: llhd_cms_sus_19_006_0s\n",
      "    \u001b[38;5;214m\u001b[1m• bf\u001b[0m: \u001b[9mNone\u001b[0m\n",
      "  \u001b[94m\u001b[1m• full\u001b[0m:\n",
      "    \u001b[38;5;214m\u001b[1m• llhd\u001b[0m:\n",
      "      \u001b[92m\u001b[1m• signal\u001b[0m: llhd_cms_sus_19_006_100s\n",
      "      \u001b[92m\u001b[1m• background\u001b[0m: llhd_cms_sus_19_006_0s\n",
      "    \u001b[38;5;214m\u001b[1m• bf\u001b[0m: \u001b[9mNone\u001b[0m\n",
      "------- \u001b[93m\u001b[1mcms_sus_21_006\u001b[0m -------\n",
      "  \u001b[94m\u001b[1m• analysisName\u001b[0m: SUS-21-006\n",
      "  \u001b[94m\u001b[1m• simplified\u001b[0m:\n",
      "    \u001b[38;5;214m\u001b[1m• llhd\u001b[0m:\n",
      "      \u001b[92m\u001b[1m• signal\u001b[0m: llhd_cms_sus_21_006_100s\n",
      "      \u001b[92m\u001b[1m• background\u001b[0m: llhd_cms_sus_21_006_0s\n",
      "    \u001b[38;5;214m\u001b[1m• bf\u001b[0m: \u001b[9mNone\u001b[0m\n",
      "  \u001b[94m\u001b[1m• full\u001b[0m:\n",
      "    \u001b[38;5;214m\u001b[1m• llhd\u001b[0m:\n",
      "      \u001b[92m\u001b[1m• signal\u001b[0m: \u001b[9mNone\u001b[0m\n",
      "      \u001b[92m\u001b[1m• background\u001b[0m: \u001b[9mNone\u001b[0m\n",
      "    \u001b[38;5;214m\u001b[1m• bf\u001b[0m: bf_cms_sus_21_006_mu1p0f\n",
      "------- \u001b[93m\u001b[1mcms_sus_18_004\u001b[0m -------\n",
      "  \u001b[94m\u001b[1m• analysisName\u001b[0m: SUS-21-006\n",
      "  \u001b[94m\u001b[1m• simplified\u001b[0m:\n",
      "    \u001b[38;5;214m\u001b[1m• llhd\u001b[0m:\n",
      "      \u001b[92m\u001b[1m• signal\u001b[0m: llhd_cms_sus_18_004_100s\n",
      "      \u001b[92m\u001b[1m• background\u001b[0m: llhd_cms_sus_18_004_0s\n",
      "    \u001b[38;5;214m\u001b[1m• bf\u001b[0m: \u001b[9mNone\u001b[0m\n",
      "  \u001b[94m\u001b[1m• full\u001b[0m:\n",
      "    \u001b[38;5;214m\u001b[1m• llhd\u001b[0m:\n",
      "      \u001b[92m\u001b[1m• signal\u001b[0m: \u001b[9mNone\u001b[0m\n",
      "      \u001b[92m\u001b[1m• background\u001b[0m: \u001b[9mNone\u001b[0m\n",
      "    \u001b[38;5;214m\u001b[1m• bf\u001b[0m: bf_cms_sus_18_004_mu1p0f\n",
      "----------------------------------------\n"
     ]
    }
   ],
   "source": [
    "constraints.printConfig()"
   ]
  },
  {
   "cell_type": "code",
   "execution_count": 5,
   "metadata": {},
   "outputs": [
    {
     "name": "stdout",
     "output_type": "stream",
     "text": [
      "_____________________________\u001b[1m\u001b[92mSIMPLIFIED cms_sus_21_006\u001b[0m_______________________\n",
      "\u001b[38;5;214mConstraint\u001b[0m: (exp(llhd_cms_sus_21_006_100s-llhd_cms_sus_21_006_0s))\n"
     ]
    },
    {
     "data": {
      "text/plain": [
       "'(exp(llhd_cms_sus_21_006_100s-llhd_cms_sus_21_006_0s))'"
      ]
     },
     "execution_count": 5,
     "metadata": {},
     "output_type": "execute_result"
    }
   ],
   "source": [
    "constraints.getConstraint(\n",
    "    analysis = \"cms_sus_21_006\",\n",
    "    isSimplified=True #default\n",
    "    )"
   ]
  },
  {
   "cell_type": "code",
   "execution_count": 6,
   "metadata": {},
   "outputs": [
    {
     "name": "stdout",
     "output_type": "stream",
     "text": [
      "_____________________________\u001b[1m\u001b[92mFULL cms_sus_21_006\u001b[0m_______________________\n",
      "\u001b[38;5;214mConstraint\u001b[0m: (max(bf_cms_sus_21_006_mu1p0f,1E-20))\n"
     ]
    },
    {
     "data": {
      "text/plain": [
       "'(max(bf_cms_sus_21_006_mu1p0f,1E-20))'"
      ]
     },
     "execution_count": 6,
     "metadata": {},
     "output_type": "execute_result"
    }
   ],
   "source": [
    "constraints.getConstraint(\n",
    "    analysis = \"cms_sus_21_006\",\n",
    "    isSimplified=False\n",
    "    )"
   ]
  },
  {
   "cell_type": "code",
   "execution_count": 7,
   "metadata": {},
   "outputs": [
    {
     "name": "stdout",
     "output_type": "stream",
     "text": [
      "_____________________________\u001b[1m\u001b[92mSIMPLIFIED COMBINED\u001b[0m_______________________\n",
      "•\u001b[93mAnalysis:\u001b[0m cms_sus_20_001 \u001b[38;5;214mConstraint\u001b[0m: (max(bf_cms_sus_20_001_mu1p0s,1E-20))\n",
      "•\u001b[93mAnalysis:\u001b[0m cms_sus_19_006 \u001b[38;5;214mConstraint\u001b[0m: (exp(llhd_cms_sus_19_006_100s-llhd_cms_sus_19_006_0s))\n",
      "•\u001b[93mAnalysis:\u001b[0m cms_sus_18_004 \u001b[38;5;214mConstraint\u001b[0m: (exp(llhd_cms_sus_18_004_100s-llhd_cms_sus_18_004_0s))\n",
      "•\u001b[93mAnalysis:\u001b[0m cms_sus_21_006 \u001b[38;5;214mConstraint\u001b[0m: (exp(llhd_cms_sus_21_006_100s-llhd_cms_sus_21_006_0s))\n"
     ]
    },
    {
     "data": {
      "text/plain": [
       "'(max(bf_cms_sus_20_001_mu1p0s,1E-20))*(exp(llhd_cms_sus_19_006_100s-llhd_cms_sus_19_006_0s))*(exp(llhd_cms_sus_18_004_100s-llhd_cms_sus_18_004_0s))*(exp(llhd_cms_sus_21_006_100s-llhd_cms_sus_21_006_0s))'"
      ]
     },
     "execution_count": 7,
     "metadata": {},
     "output_type": "execute_result"
    }
   ],
   "source": [
    "constraints.getConstraint(\n",
    "    analysis = \"cms_sus_20_001,cms_sus_19_006,cms_sus_18_004,cms_sus_21_006\",\n",
    "    isSimplified=True, #default\n",
    "    verbose=True # default\n",
    "    )"
   ]
  },
  {
   "cell_type": "code",
   "execution_count": 9,
   "metadata": {},
   "outputs": [
    {
     "name": "stdout",
     "output_type": "stream",
     "text": [
      "_____________________________\u001b[1m\u001b[92mSIMPLIFIED COMBINED\u001b[0m_______________________\n",
      "•\u001b[93mAnalysis:\u001b[0m cms_sus_20_001 \u001b[38;5;214mConstraint\u001b[0m: (max(bf_cms_sus_20_001_mu1p0s,1E-20))\n",
      "•\u001b[93mAnalysis:\u001b[0m cms_sus_19_006 \u001b[38;5;214mConstraint\u001b[0m: (exp(llhd_cms_sus_19_006_100s-llhd_cms_sus_19_006_0s))\n"
     ]
    },
    {
     "data": {
      "text/plain": [
       "'(max(bf_cms_sus_20_001_mu1p0s,1E-20))*(exp(llhd_cms_sus_19_006_100s-llhd_cms_sus_19_006_0s))'"
      ]
     },
     "execution_count": 9,
     "metadata": {},
     "output_type": "execute_result"
    }
   ],
   "source": [
    "constraints.getConstraint(\n",
    "    analysis = \"cms_sus_20_001,cms_sus_19_006\",\n",
    "    isSimplified=True, #default\n",
    "    verbose=True # default\n",
    "    )"
   ]
  },
  {
   "cell_type": "code",
   "execution_count": null,
   "metadata": {},
   "outputs": [],
   "source": []
  },
  {
   "cell_type": "code",
   "execution_count": 8,
   "metadata": {},
   "outputs": [
    {
     "name": "stdout",
     "output_type": "stream",
     "text": [
      "_____________________________\u001b[1m\u001b[92mFULL COMBINED\u001b[0m_______________________\n",
      "•\u001b[93mAnalysis:\u001b[0m cms_sus_20_001 \u001b[38;5;214mConstraint\u001b[0m: (max(bf_cms_sus_20_001_mu1p0s,1E-20))\n",
      "•\u001b[93mAnalysis:\u001b[0m cms_sus_19_006 \u001b[38;5;214mConstraint\u001b[0m: (exp(llhd_cms_sus_19_006_100s-llhd_cms_sus_19_006_0s))\n",
      "•\u001b[93mAnalysis:\u001b[0m cms_sus_18_004 \u001b[38;5;214mConstraint\u001b[0m: (max(bf_cms_sus_18_004_mu1p0f,1E-20))\n",
      "•\u001b[93mAnalysis:\u001b[0m cms_sus_21_006 \u001b[38;5;214mConstraint\u001b[0m: (max(bf_cms_sus_21_006_mu1p0f,1E-20))\n",
      "max((max(bf_cms_sus_20_001_mu1p0s,1E-20))*(exp(llhd_cms_sus_19_006_100s-llhd_cms_sus_19_006_0s))*(max(bf_cms_sus_18_004_mu1p0f,1E-20))*(max(bf_cms_sus_21_006_mu1p0f,1E-20)),1E-20)\n"
     ]
    }
   ],
   "source": [
    "print(\"max(\"+constraints.getConstraint(\n",
    "    analysis = \"cms_sus_20_001,cms_sus_19_006,cms_sus_18_004,cms_sus_21_006\",\n",
    "    isSimplified=False,\n",
    "    verbose=True # default\n",
    "    )+\",1E-20)\")"
   ]
  },
  {
   "cell_type": "code",
   "execution_count": null,
   "metadata": {},
   "outputs": [],
   "source": []
  },
  {
   "cell_type": "code",
   "execution_count": null,
   "metadata": {},
   "outputs": [],
   "source": []
  },
  {
   "cell_type": "code",
   "execution_count": null,
   "metadata": {},
   "outputs": [],
   "source": [
    "      "
   ]
  }
 ],
 "metadata": {
  "kernelspec": {
   "display_name": "particle",
   "language": "python",
   "name": "python3"
  },
  "language_info": {
   "codemirror_mode": {
    "name": "ipython",
    "version": 3
   },
   "file_extension": ".py",
   "mimetype": "text/x-python",
   "name": "python",
   "nbconvert_exporter": "python",
   "pygments_lexer": "ipython3",
   "version": "3.10.14"
  }
 },
 "nbformat": 4,
 "nbformat_minor": 2
}
