{
 "cells": [
  {
   "cell_type": "code",
   "execution_count": 1,
   "metadata": {},
   "outputs": [
    {
     "name": "stdout",
     "output_type": "stream",
     "text": [
      "Welcome to JupyROOT 6.30/04\n"
     ]
    }
   ],
   "source": [
    "from ROOT import *\n",
    "from pmssm import PMSSM, particleDrawConfig_TeV"
   ]
  },
  {
   "cell_type": "code",
   "execution_count": 2,
   "metadata": {},
   "outputs": [],
   "source": [
    "root_file_path = \"pmssmtree_11aug2023.root\"\n",
    "tree_name = \"mcmc\"\n",
    "outdir = \"plots\""
   ]
  },
  {
   "cell_type": "code",
   "execution_count": 3,
   "metadata": {},
   "outputs": [],
   "source": [
    "root_file = TFile(root_file_path) # type: ignore\n",
    "intree = root_file.Get(tree_name)"
   ]
  },
  {
   "cell_type": "code",
   "execution_count": 4,
   "metadata": {},
   "outputs": [],
   "source": [
    "pmssm_plotter = PMSSM(\n",
    "    intree = intree, \n",
    "    outdir = outdir,\n",
    "    particleDrawConfig= particleDrawConfig_TeV,\n",
    "    canvasStyle = {\n",
    "                    \"energy\" : \"13\",\n",
    "                    \"extraText\" : \"Preliminary\",\n",
    "                    \"lumi\" : \"\",\n",
    "                    \"analysisName\" : \"Combined\",\n",
    "                }\n",
    "    )"
   ]
  },
  {
   "cell_type": "markdown",
   "metadata": {},
   "source": [
    "pmssm_plotter.printConfig(\"abs(chi10)\")"
   ]
  },
  {
   "cell_type": "markdown",
   "metadata": {},
   "source": [
    "pmssm_plotter.printConfig()"
   ]
  },
  {
   "cell_type": "code",
   "execution_count": 5,
   "metadata": {},
   "outputs": [
    {
     "name": "stderr",
     "output_type": "stream",
     "text": [
      "Info in <TCanvas::MakeDefCanvas>:  created default TCanvas with name c1\n",
      "Warning in <TH2F::Sumw2>: Sum of squares of weights structure already created\n",
      "Info in <TCanvas::Print>: png file plots/gluino_chi10.png has been created\n"
     ]
    },
    {
     "data": {
      "image/png": "[encoded data removed]",
      "text/plain": [
       "<IPython.core.display.Image object>"
      ]
     },
     "metadata": {},
     "output_type": "display_data"
    }
   ],
   "source": [
    "pmssm_plotter.survivalProbability2D(\n",
    "    drawstring = \"abs(chi10):g\",\n",
    "    name = \"gluino_chi10\",\n",
    "    moreconstraints = []\n",
    "    )"
   ]
  },
  {
   "cell_type": "code",
   "execution_count": 6,
   "metadata": {},
   "outputs": [
    {
     "name": "stderr",
     "output_type": "stream",
     "text": [
      "Warning in <TH2F::Sumw2>: Sum of squares of weights structure already created\n",
      "Info in <TCanvas::Print>: png file plots/gluino_chi10_higgsino_RDPlanck.png has been created\n"
     ]
    }
   ],
   "source": [
    "pmssm_plotter.survivalProbability2D(\n",
    "    drawstring = \"abs(chi10):g\",\n",
    "    name = \"gluino_chi10_higgsino_RDPlanck\",\n",
    "    moreconstraints = [\"(Re_N_13**2+Re_N_14**2)>0.95\",\"abs(Omegah2-0.12)<=0.012\"]\n",
    "    )"
   ]
  },
  {
   "cell_type": "code",
   "execution_count": 7,
   "metadata": {},
   "outputs": [
    {
     "name": "stderr",
     "output_type": "stream",
     "text": [
      "Warning in <TH2F::Sumw2>: Sum of squares of weights structure already created\n",
      "Info in <TCanvas::Print>: png file plots/gluino_stop1.png has been created\n"
     ]
    }
   ],
   "source": [
    "pmssm_plotter.survivalProbability2D(\n",
    "    drawstring = \"abs(chi10):t1\",\n",
    "    name = \"gluino_stop1\",\n",
    "    moreconstraints = []\n",
    "    )"
   ]
  },
  {
   "cell_type": "markdown",
   "metadata": {},
   "source": []
  },
  {
   "cell_type": "markdown",
   "metadata": {},
   "source": [
    "pmssm_plotter.survivalProbability2D(\n",
    "    drawstring = \"abs(chi10):g\",\n",
    "    name = \"gluino_chi10_tev\"\n",
    "    )"
   ]
  },
  {
   "cell_type": "markdown",
   "metadata": {},
   "source": [
    "pmssm_plotter.survivalProbability2D(\n",
    "    drawstring = \"abs(chi10):g\",\n",
    "    name = \"gluino_chi10_tev\",\n",
    "    title = \"Gluino vs Neutralino LSP 2D Survival Probability\",\n",
    "    contourSwitch = False)"
   ]
  },
  {
   "cell_type": "markdown",
   "metadata": {},
   "source": [
    "pmssm_plotter.survivalProbability2D(\n",
    "    drawstring = \"abs(chi10):g\",\n",
    "    name = \"gluino_chi10_tev_contour\",\n",
    "    contourSwitch= True)"
   ]
  },
  {
   "cell_type": "markdown",
   "metadata": {},
   "source": [
    "pmssm_plotter.survivalProbability2D(\n",
    "    drawstring = \"abs(chi10):t1\",\n",
    "    name = \"top_chi10_tev_contour\",\n",
    "    contourSwitch= True)"
   ]
  },
  {
   "cell_type": "markdown",
   "metadata": {},
   "source": [
    "pmssm_plotter.survivalProbability2D(\n",
    "    drawstring = \"abs(chi10):b1\",\n",
    "    name = \"bottom_chi10_tev_contour\",\n",
    "    contourSwitch= True)"
   ]
  },
  {
   "cell_type": "code",
   "execution_count": 8,
   "metadata": {},
   "outputs": [
    {
     "name": "stderr",
     "output_type": "stream",
     "text": [
      "Warning in <TH1F::Sumw2>: Sum of squares of weights structure already created\n",
      "Warning in <TH1F::Sumw2>: Sum of squares of weights structure already created\n",
      "Warning in <TH1F::Sumw2>: Sum of squares of weights structure already created\n",
      "Warning in <TH1F::Sumw2>: Sum of squares of weights structure already created\n",
      "Info in <TCanvas::Print>: png file plots/sbottom.png has been created\n"
     ]
    }
   ],
   "source": [
    "pmssm_plotter.impact(\n",
    "    drawstring=\"b1\",\n",
    "    name=\"sbottom\",\n",
    ")"
   ]
  },
  {
   "cell_type": "code",
   "execution_count": 9,
   "metadata": {},
   "outputs": [
    {
     "name": "stderr",
     "output_type": "stream",
     "text": [
      "Warning in <TH1F::Sumw2>: Sum of squares of weights structure already created\n",
      "Warning in <TH1F::Sumw2>: Sum of squares of weights structure already created\n",
      "Warning in <TH1F::Sumw2>: Sum of squares of weights structure already created\n",
      "Warning in <TH1F::Sumw2>: Sum of squares of weights structure already created\n",
      "Info in <TCanvas::Print>: png file plots/gluon.png has been created\n"
     ]
    }
   ],
   "source": [
    "pmssm_plotter.impact(\n",
    "    drawstring=\"g\",\n",
    "    name=\"gluon\",\n",
    ")"
   ]
  },
  {
   "cell_type": "markdown",
   "metadata": {},
   "source": []
  }
 ],
 "metadata": {
  "kernelspec": {
   "display_name": "particle",
   "language": "python",
   "name": "python3"
  },
  "language_info": {
   "codemirror_mode": {
    "name": "ipython",
    "version": 3
   },
   "file_extension": ".py",
   "mimetype": "text/x-python",
   "name": "python",
   "nbconvert_exporter": "python",
   "pygments_lexer": "ipython3",
   "version": "3.9.18"
  }
 },
 "nbformat": 4,
 "nbformat_minor": 2
}
