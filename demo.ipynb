{
 "cells": [
  {
   "cell_type": "code",
   "execution_count": 1,
   "metadata": {},
   "outputs": [
    {
     "name": "stdout",
     "output_type": "stream",
     "text": [
      "Welcome to JupyROOT 6.30/04\n"
     ]
    }
   ],
   "source": [
    "from ROOT import *\n",
    "from pmssm import PMSSM, particleDrawConfig_TeV"
   ]
  },
  {
   "cell_type": "code",
   "execution_count": 3,
   "metadata": {},
   "outputs": [],
   "source": [
    "root_file_path = \"pmssmtree_11aug2023.root\"\n",
    "tree_name = \"mcmc\"\n",
    "outdir = \"plots\""
   ]
  },
  {
   "cell_type": "code",
   "execution_count": 4,
   "metadata": {},
   "outputs": [],
   "source": [
    "root_file = TFile(root_file_path) # type: ignore\n",
    "intree = root_file.Get(tree_name)"
   ]
  },
  {
   "cell_type": "code",
   "execution_count": 5,
   "metadata": {},
   "outputs": [],
   "source": [
    "pmssm_plotter = PMSSM(\n",
    "    intree = intree, \n",
    "    outdir = outdir,\n",
    "    particleDrawConfig= particleDrawConfig_TeV,\n",
    "    canvasStyle = {\n",
    "                    \"energy\" : \"13\",\n",
    "                    \"extraText\" : \"Preliminary\",\n",
    "                    \"lumi\" : \"\",\n",
    "                }\n",
    "    )"
   ]
  },
  {
   "cell_type": "markdown",
   "metadata": {},
   "source": [
    "pmssm_plotter.printConfig(\"abs(chi10)\")"
   ]
  },
  {
   "cell_type": "markdown",
   "metadata": {},
   "source": [
    "pmssm_plotter.printConfig()"
   ]
  },
  {
   "cell_type": "markdown",
   "metadata": {},
   "source": [
    "pmssm_plotter.setConfig(particleName=None, config={\n",
    "    \"unit\" : \"TeV\",\n",
    "},verbose=True)"
   ]
  },
  {
   "cell_type": "code",
   "execution_count": 6,
   "metadata": {},
   "outputs": [
    {
     "name": "stdout",
     "output_type": "stream",
     "text": [
      "Impact 1D failed for analysis:  cms_sus_21_007\n",
      "Impact 1D failed for analysis:  atlas_susy_2018_32\n",
      "Impact 1D failed for analysis:  atlas_susy_2018_06\n"
     ]
    },
    {
     "name": "stderr",
     "output_type": "stream",
     "text": [
      "Warning in <TH1F::Sumw2>: Sum of squares of weights structure already created\n",
      "Warning in <TH1F::Sumw2>: Sum of squares of weights structure already created\n",
      "Warning in <TH1F::Sumw2>: Sum of squares of weights structure already created\n",
      "Warning in <TH1F::Sumw2>: Sum of squares of weights structure already created\n",
      "Warning in <TH2F::Sumw2>: Sum of squares of weights structure already created\n",
      "Warning in <TH2F::Sumw2>: Sum of squares of weights structure already created\n",
      "Warning in <TFile::Append>: Replacing existing TH1: OF UF_px (Potential memory leak).\n",
      "Warning in <TFile::Append>: Replacing existing TH1: OF UF_px (Potential memory leak).\n",
      "Warning in <TFile::Append>: Replacing existing TH1: OF UF_px (Potential memory leak).\n",
      "Warning in <TH1D::Sumw2>: Sum of squares of weights structure already created\n",
      "Warning in <TH1D::Sumw2>: Sum of squares of weights structure already created\n",
      "Warning in <TH1D::Sumw2>: Sum of squares of weights structure already created\n",
      "Warning in <TH1D::Sumw2>: Sum of squares of weights structure already created\n",
      "Warning in <TH1F::Sumw2>: Sum of squares of weights structure already created\n",
      "Warning in <TH1F::Sumw2>: Sum of squares of weights structure already created\n",
      "Warning in <TH1F::Sumw2>: Sum of squares of weights structure already created\n",
      "Warning in <TH1F::Sumw2>: Sum of squares of weights structure already created\n",
      "Warning in <TH2F::Sumw2>: Sum of squares of weights structure already created\n",
      "Warning in <TH2F::Sumw2>: Sum of squares of weights structure already created\n",
      "Warning in <TFile::Append>: Replacing existing TH1: OF UF_px (Potential memory leak).\n",
      "Warning in <TFile::Append>: Replacing existing TH1: OF UF_px (Potential memory leak).\n",
      "Warning in <TFile::Append>: Replacing existing TH1: OF UF_px (Potential memory leak).\n",
      "Warning in <TFile::Append>: Replacing existing TH1: OF UF_px (Potential memory leak).\n",
      "Warning in <TH1D::Sumw2>: Sum of squares of weights structure already created\n",
      "Warning in <TH1D::Sumw2>: Sum of squares of weights structure already created\n",
      "Warning in <TH1D::Sumw2>: Sum of squares of weights structure already created\n",
      "Warning in <TH1D::Sumw2>: Sum of squares of weights structure already created\n",
      "Error in <TTreeFormula::Compile>:  Bad numerical expression : \"Zsig_cms_sus_21_007_15s\"\n",
      "Warning in <TH2F::Sumw2>: Sum of squares of weights structure already created\n",
      "Warning in <TH2F::Sumw2>: Sum of squares of weights structure already created\n",
      "Warning in <TFile::Append>: Replacing existing TH1: OF UF_px (Potential memory leak).\n",
      "Warning in <TFile::Append>: Replacing existing TH1: OF UF_px (Potential memory leak).\n",
      "Warning in <TFile::Append>: Replacing existing TH1: OF UF_px (Potential memory leak).\n",
      "Warning in <TFile::Append>: Replacing existing TH1: OF UF_px (Potential memory leak).\n",
      "Warning in <TH1D::Sumw2>: Sum of squares of weights structure already created\n",
      "Warning in <TH1D::Sumw2>: Sum of squares of weights structure already created\n",
      "Warning in <TH1D::Sumw2>: Sum of squares of weights structure already created\n",
      "Warning in <TH1D::Sumw2>: Sum of squares of weights structure already created\n",
      "Error in <TTreeFormula::Compile>:  Bad numerical expression : \"Zsig_atlas_susy_2018_32_15s\"\n",
      "Warning in <TH2F::Sumw2>: Sum of squares of weights structure already created\n",
      "Warning in <TH2F::Sumw2>: Sum of squares of weights structure already created\n",
      "Warning in <TFile::Append>: Replacing existing TH1: OF UF_px (Potential memory leak).\n",
      "Warning in <TFile::Append>: Replacing existing TH1: OF UF_px (Potential memory leak).\n",
      "Warning in <TFile::Append>: Replacing existing TH1: OF UF_px (Potential memory leak).\n",
      "Warning in <TFile::Append>: Replacing existing TH1: OF UF_px (Potential memory leak).\n",
      "Warning in <TH1D::Sumw2>: Sum of squares of weights structure already created\n",
      "Warning in <TH1D::Sumw2>: Sum of squares of weights structure already created\n",
      "Warning in <TH1D::Sumw2>: Sum of squares of weights structure already created\n",
      "Warning in <TH1D::Sumw2>: Sum of squares of weights structure already created\n",
      "Error in <TTreeFormula::Compile>:  Bad numerical expression : \"Zsig_atlas_susy_2018_06_15s\"\n",
      "Warning in <TH2F::Sumw2>: Sum of squares of weights structure already created\n",
      "Warning in <TH2F::Sumw2>: Sum of squares of weights structure already created\n",
      "Warning in <TFile::Append>: Replacing existing TH1: OF UF_px (Potential memory leak).\n",
      "Warning in <TFile::Append>: Replacing existing TH1: OF UF_px (Potential memory leak).\n",
      "Warning in <TFile::Append>: Replacing existing TH1: OF UF_px (Potential memory leak).\n",
      "Warning in <TFile::Append>: Replacing existing TH1: OF UF_px (Potential memory leak).\n",
      "Warning in <TH1D::Sumw2>: Sum of squares of weights structure already created\n",
      "Warning in <TH1D::Sumw2>: Sum of squares of weights structure already created\n",
      "Warning in <TH1D::Sumw2>: Sum of squares of weights structure already created\n",
      "Warning in <TH1D::Sumw2>: Sum of squares of weights structure already created\n",
      "Warning in <TH1F::Sumw2>: Sum of squares of weights structure already created\n",
      "Warning in <TH1F::Sumw2>: Sum of squares of weights structure already created\n",
      "Warning in <TH1F::Sumw2>: Sum of squares of weights structure already created\n",
      "Warning in <TH1F::Sumw2>: Sum of squares of weights structure already created\n",
      "Warning in <TH2F::Sumw2>: Sum of squares of weights structure already created\n",
      "Warning in <TH2F::Sumw2>: Sum of squares of weights structure already created\n",
      "Warning in <TFile::Append>: Replacing existing TH1: OF UF_px (Potential memory leak).\n",
      "Warning in <TFile::Append>: Replacing existing TH1: OF UF_px (Potential memory leak).\n",
      "Warning in <TFile::Append>: Replacing existing TH1: OF UF_px (Potential memory leak).\n",
      "Warning in <TFile::Append>: Replacing existing TH1: OF UF_px (Potential memory leak).\n",
      "Warning in <TH1D::Sumw2>: Sum of squares of weights structure already created\n",
      "Warning in <TH1D::Sumw2>: Sum of squares of weights structure already created\n",
      "Warning in <TH1D::Sumw2>: Sum of squares of weights structure already created\n",
      "Warning in <TH1D::Sumw2>: Sum of squares of weights structure already created\n"
     ]
    },
    {
     "data": {
      "image/png": "[encoded data removed]",
      "text/plain": [
       "<IPython.core.display.Image object>"
      ]
     },
     "metadata": {},
     "output_type": "display_data"
    }
   ],
   "source": [
    "for analysisName in [\"combined\",\"cms_sus_18_004\",\"cms_sus_21_007\",\"atlas_susy_2018_32\",\"atlas_susy_2018_06\",\"cms_sus_21_006\"]:\n",
    "    \n",
    "    try:\n",
    "        pmssm_plotter.impact1D(drawstring=\"g\",analysis=analysisName)\n",
    "    except:\n",
    "        print(\"Impact 1D failed for analysis: \",analysisName)\n",
    "    try:\n",
    "        pmssm_plotter.survivalProbability2D(drawstring = \"abs(chi10):g\",analysis=analysisName)\n",
    "    except:\n",
    "        print(\"Survival Probability 2D failed for analysis: \",analysisName)\n",
    "    try:        \n",
    "        pmssm_plotter.survivalProbability2D(drawstring = \"abs(chi10):g\",analysis=analysisName,contourSwitch=True)\n",
    "    except:\n",
    "        print(\"Survival Probability 2D with contour failed for analysis: \",analysisName)\n",
    "    try:\n",
    "        pmssm_plotter.quantilePlots1D(drawstring=\"g\",analysis=analysisName, quantiles = {\n",
    "                                                                    \"0.5\": {\"color\":kBlack},\n",
    "                                                                    \"0.75\": {\"color\":kOrange},\n",
    "                                                                    \"0.9\": {\"color\":kRed,\"linestyle\": kDashed},\n",
    "                                                                    \"0.99\": {\"color\":kMagenta,\"linestyle\": kDashed}})\n",
    "    except:\n",
    "        print(\"Quantile plots 1D failed for analysis: \",analysisName)"
   ]
  },
  {
   "cell_type": "code",
   "execution_count": null,
   "metadata": {},
   "outputs": [],
   "source": []
  }
 ],
 "metadata": {
  "kernelspec": {
   "display_name": "particle",
   "language": "python",
   "name": "python3"
  },
  "language_info": {
   "codemirror_mode": {
    "name": "ipython",
    "version": 3
   },
   "file_extension": ".py",
   "mimetype": "text/x-python",
   "name": "python",
   "nbconvert_exporter": "python",
   "pygments_lexer": "ipython3",
   "version": "3.9.18"
  }
 },
 "nbformat": 4,
 "nbformat_minor": 2
}
