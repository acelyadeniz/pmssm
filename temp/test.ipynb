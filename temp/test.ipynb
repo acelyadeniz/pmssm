{
 "cells": [
  {
   "cell_type": "code",
   "execution_count": 1,
   "metadata": {},
   "outputs": [
    {
     "name": "stdout",
     "output_type": "stream",
     "text": [
      "Welcome to JupyROOT 6.30/04\n"
     ]
    }
   ],
   "source": [
    "from ROOT import *\n",
    "from utils.plots import get_impact_plots\n",
    "from pmssm import PMSSM"
   ]
  },
  {
   "cell_type": "code",
   "execution_count": null,
   "metadata": {},
   "outputs": [],
   "source": []
  },
  {
   "cell_type": "code",
   "execution_count": null,
   "metadata": {},
   "outputs": [],
   "source": []
  },
  {
   "cell_type": "code",
   "execution_count": null,
   "metadata": {},
   "outputs": [],
   "source": [
    "root_file_path = \"pmssmtree_11aug2023.root\"\n",
    "tree_name = \"mcmc\"\n",
    "root_file = TFile(root_file_path)\n",
    "intree = root_file.Get(tree_name)"
   ]
  },
  {
   "cell_type": "code",
   "execution_count": null,
   "metadata": {},
   "outputs": [],
   "source": [
    "hist =  get_impact_plots(\n",
    "            localtree = intree,\n",
    "            analysis = \"combined\",\n",
    "            hname = \"test\",\n",
    "            xtitle = \"Gluon\",\n",
    "            xbins = 50,\n",
    "            xlow = 0,\n",
    "            xup = 6500,\n",
    "            _logx = False,\n",
    "            drawstring = \"g\")\n",
    "                "
   ]
  },
  {
   "cell_type": "code",
   "execution_count": null,
   "metadata": {},
   "outputs": [],
   "source": [
    "gStyle.SetOptStat(0)"
   ]
  },
  {
   "cell_type": "code",
   "execution_count": null,
   "metadata": {},
   "outputs": [],
   "source": [
    "c = TCanvas(\"c\", \"c\", 800, 800)"
   ]
  },
  {
   "cell_type": "code",
   "execution_count": null,
   "metadata": {},
   "outputs": [],
   "source": [
    "for key in hist:\n",
    "    h = hist[key]\n",
    "    \n",
    "    print(PMSSM.getAxisRange(hist[key]))\n",
    "    hist[key].Draw(\"hist same\")"
   ]
  },
  {
   "cell_type": "code",
   "execution_count": null,
   "metadata": {},
   "outputs": [],
   "source": [
    "c.Draw()"
   ]
  },
  {
   "cell_type": "code",
   "execution_count": null,
   "metadata": {},
   "outputs": [],
   "source": [
    "h.GetMaximumBin(),h.GetMaximum()"
   ]
  },
  {
   "cell_type": "code",
   "execution_count": null,
   "metadata": {},
   "outputs": [],
   "source": [
    "h.GetXaxis().GetBinCenter(49)"
   ]
  },
  {
   "cell_type": "code",
   "execution_count": 2,
   "metadata": {},
   "outputs": [
    {
     "name": "stdout",
     "output_type": "stream",
     "text": [
      "53 0.2000000000000001 343.0\n",
      "bottom-left\n"
     ]
    }
   ],
   "source": [
    "def place_legend_auto(histogram, legend_width, legend_height):\n",
    "    max_bin = histogram.GetMaximumBin()\n",
    "    x_max = histogram.GetXaxis().GetBinCenter(max_bin)\n",
    "    y_max = histogram.GetMaximum()\n",
    "\n",
    "    print(max_bin,x_max,y_max)\n",
    "\n",
    "    if x_max < histogram.GetMean():\n",
    "        if y_max < (histogram.GetMaximum() / 2):\n",
    "            legend_position = \"top-right\"\n",
    "        else:\n",
    "            legend_position = \"bottom-right\"\n",
    "    else:\n",
    "        if y_max < (histogram.GetMaximum() / 2):\n",
    "            legend_position = \"top-left\"\n",
    "        else:\n",
    "            legend_position = \"bottom-left\"\n",
    "    print(legend_position )\n",
    "\n",
    "hist = TH1F(\"hist\", \"Example Histogram\", 100, -4, 4)\n",
    "hist.FillRandom(\"gaus\", 10000)\n",
    "\n",
    "# Fonksiyonu çağır\n",
    "place_legend_auto(hist, 0.1, 0.1)\n"
   ]
  },
  {
   "cell_type": "code",
   "execution_count": 21,
   "metadata": {},
   "outputs": [
    {
     "data": {
      "text/plain": [
       "(-4.0, 4.0, 0.0, 343.0)"
      ]
     },
     "execution_count": 21,
     "metadata": {},
     "output_type": "execute_result"
    }
   ],
   "source": [
    "PMSSM.getAxisRange(hist)"
   ]
  },
  {
   "cell_type": "code",
   "execution_count": 26,
   "metadata": {},
   "outputs": [
    {
     "data": {
      "text/plain": [
       "(343.0, 0.2000000000000001)"
      ]
     },
     "execution_count": 26,
     "metadata": {},
     "output_type": "execute_result"
    }
   ],
   "source": [
    "max_bin = hist.GetMaximumBin()\n",
    "hist.GetMaximum(),hist.GetXaxis().GetBinCenter(max_bin)"
   ]
  },
  {
   "cell_type": "code",
   "execution_count": 22,
   "metadata": {},
   "outputs": [
    {
     "data": {
      "image/png": "[encoded data removed]",
      "text/plain": [
       "<IPython.core.display.Image object>"
      ]
     },
     "metadata": {},
     "output_type": "display_data"
    }
   ],
   "source": [
    "c = TCanvas(\"c\", \"c\", 800, 800)\n",
    "hist.Draw()\n",
    "c.Draw()"
   ]
  },
  {
   "cell_type": "code",
   "execution_count": null,
   "metadata": {},
   "outputs": [],
   "source": []
  }
 ],
 "metadata": {
  "kernelspec": {
   "display_name": "particle",
   "language": "python",
   "name": "python3"
  },
  "language_info": {
   "codemirror_mode": {
    "name": "ipython",
    "version": 3
   },
   "file_extension": ".py",
   "mimetype": "text/x-python",
   "name": "python",
   "nbconvert_exporter": "python",
   "pygments_lexer": "ipython3",
   "version": "3.9.18"
  }
 },
 "nbformat": 4,
 "nbformat_minor": 2
}
