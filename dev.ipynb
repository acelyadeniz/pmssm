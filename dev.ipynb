{
 "cells": [
  {
   "cell_type": "code",
   "execution_count": 1,
   "metadata": {},
   "outputs": [
    {
     "name": "stdout",
     "output_type": "stream",
     "text": [
      "Welcome to JupyROOT 6.30/04\n"
     ]
    }
   ],
   "source": [
    "from ROOT import *\n",
    "from pmssm import PMSSM, particleDrawConfig_TeV"
   ]
  },
  {
   "cell_type": "code",
   "execution_count": 2,
   "metadata": {},
   "outputs": [],
   "source": [
    "root_file_path = \"pmssmtree_11aug2023.root\"\n",
    "tree_name = \"mcmc\"\n",
    "outdir = \"plots\""
   ]
  },
  {
   "cell_type": "code",
   "execution_count": 3,
   "metadata": {},
   "outputs": [],
   "source": [
    "root_file = TFile(root_file_path)\n",
    "intree = root_file.Get(tree_name)"
   ]
  },
  {
   "cell_type": "code",
   "execution_count": 4,
   "metadata": {},
   "outputs": [],
   "source": [
    "pmssm_plotter = PMSSM(\n",
    "    intree = intree, \n",
    "    outdir=outdir,\n",
    "    particleDrawConfig= particleDrawConfig_TeV\n",
    "    )"
   ]
  },
  {
   "cell_type": "code",
   "execution_count": 5,
   "metadata": {},
   "outputs": [
    {
     "name": "stdout",
     "output_type": "stream",
     "text": [
      "############### abs(chi10) ###############\n",
      "-Title:  m_{#tilde{#chi}^{0}_{1}}\n",
      "-# of Bins:  50\n",
      "-Max Range: 2500\n",
      "-Min Range: 0\n",
      "-Log Scale: False\n",
      "-Linear Scale: 1000\n",
      "-Unit: TeV\n"
     ]
    }
   ],
   "source": [
    "pmssm_plotter.printConfig(\"abs(chi10)\")"
   ]
  },
  {
   "cell_type": "code",
   "execution_count": 6,
   "metadata": {},
   "outputs": [
    {
     "name": "stdout",
     "output_type": "stream",
     "text": [
      "############### abs(chi10) ###############\n",
      "-Title:  m_{#tilde{#chi}^{0}_{1}}\n",
      "-# of Bins:  50\n",
      "-Max Range: 2500\n",
      "-Min Range: 0\n",
      "-Log Scale: False\n",
      "-Linear Scale: 1000\n",
      "-Unit: TeV\n",
      "############### g ###############\n",
      "-Title:  m(#tilde{g})\n",
      "-# of Bins:  100\n",
      "-Max Range: 10000\n",
      "-Min Range: 0\n",
      "-Log Scale: False\n",
      "-Linear Scale: 1000\n",
      "-Unit: TeV\n",
      "############### t1 ###############\n",
      "-Title:  m(#tilde{t}_{1})\n",
      "-# of Bins:  100\n",
      "-Max Range: 10000\n",
      "-Min Range: 0\n",
      "-Log Scale: False\n",
      "-Linear Scale: 1000.0\n",
      "-Unit: TeV\n",
      "############### b1 ###############\n",
      "-Title:  m(#tilde{b}_{1})\n",
      "-# of Bins:  100\n",
      "-Max Range: 10000\n",
      "-Min Range: 0\n",
      "-Log Scale: False\n",
      "-Linear Scale: 1000.0\n",
      "-Unit: TeV\n"
     ]
    }
   ],
   "source": [
    "pmssm_plotter.printConfig()"
   ]
  },
  {
   "cell_type": "code",
   "execution_count": 7,
   "metadata": {},
   "outputs": [
    {
     "name": "stderr",
     "output_type": "stream",
     "text": [
      "Warning in <TH2F::Sumw2>: Sum of squares of weights structure already created\n",
      "Info in <TCanvas::Print>: png file plots/gluino_chi10_tev_contour.png has been created\n"
     ]
    },
    {
     "data": {
      "image/png": "[encoded data removed]",
      "text/plain": [
       "<IPython.core.display.Image object>"
      ]
     },
     "metadata": {},
     "output_type": "display_data"
    }
   ],
   "source": [
    "pmssm_plotter.survivalProbability2D(\n",
    "    drawstring = \"abs(chi10):g\",\n",
    "    name = \"gluino_chi10_tev_contour\",\n",
    "    #title = \"Gluino vs Neutralino LSP 2D Survival Probability\",\n",
    "    contourSwitch= True)"
   ]
  },
  {
   "cell_type": "code",
   "execution_count": 8,
   "metadata": {},
   "outputs": [
    {
     "name": "stderr",
     "output_type": "stream",
     "text": [
      "Warning in <TH2F::Sumw2>: Sum of squares of weights structure already created\n",
      "Info in <TCanvas::Print>: png file plots/top_chi10_tev_contour.png has been created\n"
     ]
    }
   ],
   "source": [
    "pmssm_plotter.survivalProbability2D(\n",
    "    drawstring = \"abs(chi10):t1\",\n",
    "    name = \"top_chi10_tev_contour\",\n",
    "    contourSwitch= True)"
   ]
  },
  {
   "cell_type": "code",
   "execution_count": 9,
   "metadata": {},
   "outputs": [
    {
     "name": "stderr",
     "output_type": "stream",
     "text": [
      "Warning in <TH2F::Sumw2>: Sum of squares of weights structure already created\n",
      "Info in <TCanvas::Print>: png file plots/bottom_chi10_tev_contour.png has been created\n"
     ]
    }
   ],
   "source": [
    "pmssm_plotter.survivalProbability2D(\n",
    "    drawstring = \"abs(chi10):b1\",\n",
    "    name = \"bottom_chi10_tev_contour\",\n",
    "    contourSwitch= True)"
   ]
  }
 ],
 "metadata": {
  "kernelspec": {
   "display_name": "particle",
   "language": "python",
   "name": "python3"
  },
  "language_info": {
   "codemirror_mode": {
    "name": "ipython",
    "version": 3
   },
   "file_extension": ".py",
   "mimetype": "text/x-python",
   "name": "python",
   "nbconvert_exporter": "python",
   "pygments_lexer": "ipython3",
   "version": "3.9.18"
  }
 },
 "nbformat": 4,
 "nbformat_minor": 2
}
