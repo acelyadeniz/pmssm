{
 "cells": [
  {
   "cell_type": "code",
   "execution_count": 1,
   "metadata": {},
   "outputs": [
    {
     "name": "stdout",
     "output_type": "stream",
     "text": [
      "Welcome to JupyROOT 6.30/04\n"
     ]
    }
   ],
   "source": [
    "from ROOT import *\n",
    "from pmssm import PMSSM, particleDrawConfig_TeV"
   ]
  },
  {
   "cell_type": "code",
   "execution_count": 4,
   "metadata": {},
   "outputs": [],
   "source": [
    "root_file_path = \"pmssmtree_11aug2023.root\"\n",
    "tree_name = \"mcmc\"\n",
    "outdir = \"plots_sunum\""
   ]
  },
  {
   "cell_type": "code",
   "execution_count": 5,
   "metadata": {},
   "outputs": [],
   "source": [
    "root_file = TFile(root_file_path) # type: ignore\n",
    "intree = root_file.Get(tree_name)"
   ]
  },
  {
   "cell_type": "code",
   "execution_count": 6,
   "metadata": {},
   "outputs": [],
   "source": [
    "pmssm_plotter = PMSSM(\n",
    "    intree = intree, \n",
    "    outdir = outdir,\n",
    "    particleDrawConfig= particleDrawConfig_TeV\n",
    "    )"
   ]
  },
  {
   "cell_type": "code",
   "execution_count": 7,
   "metadata": {},
   "outputs": [
    {
     "name": "stdout",
     "output_type": "stream",
     "text": [
      "############### abs(chi10) ###############\n",
      "-Title:  m_{#tilde{#chi}^{0}_{1}}\n",
      "-# of Bins:  50\n",
      "-Max Range: 2500\n",
      "-Min Range: 0\n",
      "-Log Scale: False\n",
      "-Linear Scale: 1000\n",
      "-Unit: TeV\n"
     ]
    }
   ],
   "source": [
    "pmssm_plotter.printConfig(\"abs(chi10)\")"
   ]
  },
  {
   "cell_type": "code",
   "execution_count": 8,
   "metadata": {},
   "outputs": [
    {
     "name": "stdout",
     "output_type": "stream",
     "text": [
      "############### abs(chi10) ###############\n",
      "-Title:  m_{#tilde{#chi}^{0}_{1}}\n",
      "-# of Bins:  50\n",
      "-Max Range: 2500\n",
      "-Min Range: 0\n",
      "-Log Scale: False\n",
      "-Linear Scale: 1000\n",
      "-Unit: TeV\n",
      "############### g ###############\n",
      "-Title:  m(#tilde{g})\n",
      "-# of Bins:  100\n",
      "-Max Range: 10000\n",
      "-Min Range: 0\n",
      "-Log Scale: False\n",
      "-Linear Scale: 1000\n",
      "-Unit: TeV\n",
      "############### t1 ###############\n",
      "-Title:  m(#tilde{t}_{1})\n",
      "-# of Bins:  100\n",
      "-Max Range: 10000\n",
      "-Min Range: 0\n",
      "-Log Scale: False\n",
      "-Linear Scale: 1000.0\n",
      "-Unit: TeV\n",
      "############### b1 ###############\n",
      "-Title:  m(#tilde{b}_{1})\n",
      "-# of Bins:  100\n",
      "-Max Range: 10000\n",
      "-Min Range: 0\n",
      "-Log Scale: False\n",
      "-Linear Scale: 1000.0\n",
      "-Unit: TeV\n"
     ]
    }
   ],
   "source": [
    "pmssm_plotter.printConfig()"
   ]
  },
  {
   "cell_type": "code",
   "execution_count": 11,
   "metadata": {},
   "outputs": [
    {
     "name": "stderr",
     "output_type": "stream",
     "text": [
      "Warning in <TH2F::Sumw2>: Sum of squares of weights structure already created\n",
      "Info in <TCanvas::Print>: png file plots_sunum/gluino_chi10_higgsino_RDPlanck.png has been created\n"
     ]
    }
   ],
   "source": [
    "pmssm_plotter.survivalProbability2D(\n",
    "    drawstring = \"abs(chi10):g\",\n",
    "    name = \"gluino_chi10_higgsino_RDPlanck\",\n",
    "    moreconstraints = [\"(Re_N_13**2+Re_N_14**2)>0.95\",\"abs(Omegah2-0.12)<=0.012\"]\n",
    "    )"
   ]
  },
  {
   "cell_type": "code",
   "execution_count": 10,
   "metadata": {},
   "outputs": [
    {
     "name": "stderr",
     "output_type": "stream",
     "text": [
      "Warning in <TH2F::Sumw2>: Sum of squares of weights structure already created\n",
      "Info in <TCanvas::Print>: png file plots_sunum/gluino_chi10_tev.png has been created\n"
     ]
    }
   ],
   "source": [
    "pmssm_plotter.survivalProbability2D(\n",
    "    drawstring = \"abs(chi10):g\",\n",
    "    name = \"gluino_chi10_tev\"\n",
    "    )"
   ]
  },
  {
   "cell_type": "code",
   "execution_count": 9,
   "metadata": {},
   "outputs": [
    {
     "name": "stderr",
     "output_type": "stream",
     "text": [
      "Warning in <TH2F::Sumw2>: Sum of squares of weights structure already created\n",
      "Info in <TCanvas::Print>: png file plots_sunum/gluino_chi10_tev.png has been created\n"
     ]
    }
   ],
   "source": [
    "pmssm_plotter.survivalProbability2D(\n",
    "    drawstring = \"abs(chi10):g\",\n",
    "    name = \"gluino_chi10_tev\",\n",
    "    title = \"Gluino vs Neutralino LSP 2D Survival Probability\",\n",
    "    contourSwitch = False)"
   ]
  },
  {
   "cell_type": "code",
   "execution_count": 12,
   "metadata": {},
   "outputs": [
    {
     "name": "stderr",
     "output_type": "stream",
     "text": [
      "Warning in <TH2F::Sumw2>: Sum of squares of weights structure already created\n",
      "Info in <TCanvas::Print>: png file plots_sunum/gluino_chi10_tev_contour.png has been created\n"
     ]
    },
    {
     "data": {
      "image/png": "[encoded data removed]",
      "text/plain": [
       "<IPython.core.display.Image object>"
      ]
     },
     "metadata": {},
     "output_type": "display_data"
    }
   ],
   "source": [
    "pmssm_plotter.survivalProbability2D(\n",
    "    drawstring = \"abs(chi10):g\",\n",
    "    name = \"gluino_chi10_tev_contour\",\n",
    "    contourSwitch= True)"
   ]
  },
  {
   "cell_type": "code",
   "execution_count": 17,
   "metadata": {},
   "outputs": [
    {
     "name": "stderr",
     "output_type": "stream",
     "text": [
      "Warning in <TFile::Append>: Replacing existing TH1: hdenom (Potential memory leak).\n",
      "Warning in <TH2F::Sumw2>: Sum of squares of weights structure already created\n",
      "Info in <TCanvas::Print>: png file plots_sunum/top_chi10_tev_contour.png has been created\n"
     ]
    }
   ],
   "source": [
    "pmssm_plotter.survivalProbability2D(\n",
    "    drawstring = \"abs(chi10):t1\",\n",
    "    name = \"top_chi10_tev_contour\",\n",
    "    contourSwitch= True)"
   ]
  },
  {
   "cell_type": "code",
   "execution_count": 14,
   "metadata": {},
   "outputs": [
    {
     "name": "stderr",
     "output_type": "stream",
     "text": [
      "Warning in <TH2F::Sumw2>: Sum of squares of weights structure already created\n",
      "Info in <TCanvas::Print>: png file plots_sunum/bottom_chi10_tev_contour.png has been created\n"
     ]
    }
   ],
   "source": [
    "pmssm_plotter.survivalProbability2D(\n",
    "    drawstring = \"abs(chi10):b1\",\n",
    "    name = \"bottom_chi10_tev_contour\",\n",
    "    contourSwitch= True)"
   ]
  },
  {
   "cell_type": "code",
   "execution_count": null,
   "metadata": {},
   "outputs": [],
   "source": [
    "pmssm_plotter.impact(\n",
    "    drawstring=\"b1\",\n",
    "    name=\"sbottom\",\n",
    ")"
   ]
  }
 ],
 "metadata": {
  "kernelspec": {
   "display_name": "particle",
   "language": "python",
   "name": "python3"
  },
  "language_info": {
   "codemirror_mode": {
    "name": "ipython",
    "version": 3
   },
   "file_extension": ".py",
   "mimetype": "text/x-python",
   "name": "python",
   "nbconvert_exporter": "python",
   "pygments_lexer": "ipython3",
   "version": "3.9.18"
  }
 },
 "nbformat": 4,
 "nbformat_minor": 2
}
